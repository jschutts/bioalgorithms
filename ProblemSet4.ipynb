{
 "cells": [
  {
   "cell_type": "markdown",
   "metadata": {
    "section": "header"
   },
   "source": [
    "---\n",
    "<div style=\"text-align: center;\">\n",
    "<h1>The University of North Carolina at Chapel Hill</h1>\n",
    "<h1>Comp 555 BioAlgorithms - Spring 2017</h1>\n",
    "<h1 style=\"font-size: 250%;\">Problem Set #4</h1>\n",
    "<h1 style=\"font-size: 180%;\">Version 2</h1>\n",
    "<h1>Issued Wednesday, 4/13/2017; Due Monday, 4/24/2017</h1>\n",
    "</div>\n",
    "\n",
    "**Homework Information:** Some of the problems are probably too long to be done the night before the due date, so plan accordingly. Late problem sets will be penalized by a factor of\t70.71% for each class meeting after the due date. Feel free to get help from others, but the work you submit in should be your own."
   ]
  },
  {
   "cell_type": "code",
   "execution_count": 1,
   "metadata": {
    "section": "signature"
   },
   "outputs": [],
   "source": [
    "# Replace the following string values with the requested information\n",
    "class Student:\n",
    "    first = \"John\"\n",
    "    last = \"Schutts\"\n",
    "    onyen = \"jschutts\"\n",
    "    pid = \"720425330\""
   ]
  },
  {
   "cell_type": "markdown",
   "metadata": {
    "number": 1,
    "section": "problem"
   },
   "source": [
    "---\n",
    "**Problem #1:** Create a suffix array of the [house mouse mitochondrial sequence](http://csbio.unc.edu/mcmillan/Comp555S17/data/MusMusculusMT.fa) used in problem set #3 with the leading '+' replaced by a '&dollar;'. Then find the range suffix-array indices that begin with the \"CATTAG\" substring."
   ]
  },
  {
   "cell_type": "raw",
   "metadata": {
    "number": 1,
    "section": "answer"
   },
   "source": [
    "The range is 11566 to 16003"
   ]
  },
  {
   "cell_type": "code",
   "execution_count": 6,
   "metadata": {},
   "outputs": [
    {
     "name": "stdout",
     "output_type": "stream",
     "text": [
      "11566\n",
      "16003\n"
     ]
    }
   ],
   "source": [
    "def loadFasta(filename):\n",
    "    \"\"\" Parses a classically formatted and possibly \n",
    "        compressed FASTA file into a list of headers \n",
    "        and fragment sequences for each sequence contained\"\"\"\n",
    "    if (filename.endswith(\".gz\")):\n",
    "        fp = gzip.open(filename, 'rb')\n",
    "    else:\n",
    "        fp = open(filename, 'rb')\n",
    "    # split at headers\n",
    "    data = fp.read().split('>')\n",
    "    fp.close()\n",
    "    # ignore whatever appears before the 1st header\n",
    "    data.pop(0)     \n",
    "    headers = []\n",
    "    sequences = []\n",
    "    for sequence in data:\n",
    "        lines = sequence.split('\\n')\n",
    "        headers.append(lines.pop(0))\n",
    "        # add an extra \"+\" to make string \"1-referenced\"\n",
    "        sequences.append('+' + ''.join(lines))\n",
    "    return (headers, sequences)\n",
    "\n",
    "hdr, seq = loadFasta(\"MusMusculusMT.fa\")\n",
    "genome = seq[0]\n",
    "\n",
    "def suffixArray(text):\n",
    "    return sorted(range(len(text)), cmp=lambda i,j: 1 if text[i:] >= text[j:] else -1)\n",
    "\n",
    "sufArray = suffixArray(genome)\n",
    "\n",
    "string = 'CATTAG'\n",
    "\n",
    "def findFirst(pattern, text, suffixarray):\n",
    "    lo, hi = 0, len(text)\n",
    "    while(lo < hi):\n",
    "        middle = (lo+hi)/2\n",
    "        if text[suffixarray[middle]:]<pattern:\n",
    "            lo = middle + 1\n",
    "        else:\n",
    "            hi = middle\n",
    "    return lo\n",
    "\n",
    "first = findFirst(string, genome, sufArray)\n",
    "\n",
    "def findLast(pattern, text, suffixarray):\n",
    "    lo, hi = 0, len(text)\n",
    "    while(lo < hi):\n",
    "        middle = (lo+hi)/2\n",
    "        if text[suffixarray[middle]:suffixarray[middle]+len(pattern)] <= pattern:\n",
    "            lo = middle + 1\n",
    "        else:\n",
    "            hi = middle\n",
    "    return lo\n",
    "\n",
    "last = findLast(string, genome, sufArray)\n",
    "\n",
    "print sufArray[first]\n",
    "print sufArray[last-1]\n",
    "\n"
   ]
  },
  {
   "cell_type": "markdown",
   "metadata": {
    "number": 2,
    "section": "problem"
   },
   "source": [
    "---\n",
    "**Problem #2:** Use the suffix array from problem #1 to construct the BWT of the mouse mitochondria. In this BWT find the longest run of repeated bases. Report both the base and how many times it appears."
   ]
  },
  {
   "cell_type": "raw",
   "metadata": {
    "number": 2,
    "section": "answer"
   },
   "source": [
    "The bases that have the longest repeated runs are 'A' and 'T' and they repeat 10 times."
   ]
  },
  {
   "cell_type": "code",
   "execution_count": 29,
   "metadata": {
    "scrolled": true
   },
   "outputs": [
    {
     "name": "stdout",
     "output_type": "stream",
     "text": [
      "10\n",
      "A\n",
      "T\n",
      "\n"
     ]
    }
   ],
   "source": [
    "def loadFasta(filename):\n",
    "    \"\"\" Parses a classically formatted and possibly \n",
    "        compressed FASTA file into a list of headers \n",
    "        and fragment sequences for each sequence contained\"\"\"\n",
    "    if (filename.endswith(\".gz\")):\n",
    "        fp = gzip.open(filename, 'rb')\n",
    "    else:\n",
    "        fp = open(filename, 'rb')\n",
    "    # split at headers\n",
    "    data = fp.read().split('>')\n",
    "    fp.close()\n",
    "    # ignore whatever appears before the 1st header\n",
    "    data.pop(0)     \n",
    "    headers = []\n",
    "    sequences = []\n",
    "    for sequence in data:\n",
    "        lines = sequence.split('\\n')\n",
    "        headers.append(lines.pop(0))\n",
    "        # add an extra \"+\" to make string \"1-referenced\"\n",
    "        sequences.append('+' + ''.join(lines))\n",
    "    return (headers, sequences)\n",
    "\n",
    "hdr, seq = loadFasta(\"MusMusculusMT.fa\")\n",
    "genome = seq[0]\n",
    "\n",
    "def suffixArray(text):\n",
    "    return sorted(range(len(text)), cmp=lambda i,j: 1 if text[i:] >= text[j:] else -1)\n",
    "\n",
    "sufArray = suffixArray(genome)\n",
    "\n",
    "def BWTfromSuffixArray(text, suffixarray):\n",
    "    return ''.join(text[i-1] for i in suffixarray)\n",
    "\n",
    "bwt = BWTfromSuffixArray(genome, sufArray)\n",
    "\n",
    "length = 0\n",
    "\n",
    "\n",
    "last = \"\"\n",
    "current = 0\n",
    "maxLen = 0\n",
    "\n",
    "for i in bwt:\n",
    "    if i == last:\n",
    "        current += 1\n",
    "        if current > maxLen:\n",
    "            maxLen = current\n",
    "    else:\n",
    "        current = 1\n",
    "        last = i\n",
    "\n",
    "print(maxLen)\n",
    "print(last)\n",
    "\n",
    "#checks for a second base with the same max length\n",
    "str1 = 'C' * maxLen\n",
    "str2 = 'T' * maxLen\n",
    "str3 = 'G' * maxLen\n",
    "\n",
    "if (str1 in bwt):\n",
    "    print 'C'\n",
    "\n",
    "if (str2 in bwt):\n",
    "    print 'T'\n",
    "\n",
    "if (str3 in bwt):\n",
    "    print 'G'\n",
    "    \n"
   ]
  },
  {
   "cell_type": "markdown",
   "metadata": {
    "number": 3,
    "section": "problem"
   },
   "source": [
    "---\n",
    "**Problem #3:** Often it is necessary to search a genomic sequence for a given pattern and its reverse-complement. This can be accomplished using two $O(p)$ queries to the BWT. Suppose instead that we concatenate the given genomic sequence with its reverse-complement with each teminated with a dollar sign and build a BWT of this new string. Will searches in this string find substring in both the given sequence and its reverse complement using just one $O(p)$ query? If not, explain why. If so, decribes any disadvantages of this approach relative to using the original BWR and two queries."
   ]
  },
  {
   "cell_type": "raw",
   "metadata": {
    "number": 3,
    "section": "answer"
   },
   "source": [
    "No, you would not be able to find the substring in that BWT in one O(p) query. When creating a BWT, you end up sorting the cyclical suffixs before creating the final string. This would mix up the string and its reverse complement, which would then make it impossible to find the pattern as the original sequence (and its reverse complement) would no longer be intact. "
   ]
  },
  {
   "cell_type": "markdown",
   "metadata": {
    "number": 4,
    "section": "problem"
   },
   "source": [
    "**Problem #4: Programming Problem**\n",
    "\n",
    "Write a function to compute the LCP array for the implicit suffix array of a given BWT string."
   ]
  },
  {
   "cell_type": "code",
   "execution_count": 2,
   "metadata": {
    "collapsed": true,
    "number": 4,
    "section": "answer"
   },
   "outputs": [],
   "source": [
    "def FMIndex(bwt):\n",
    "    fm = [{c: 0 for c in bwt}]\n",
    "    for c in bwt:\n",
    "        row = {symbol: count + 1 if (symbol == c) else count for symbol, count in fm[-1].iteritems()}\n",
    "        fm.append(row)\n",
    "    offset = {}\n",
    "    N = 0\n",
    "    for symbol in sorted(row.keys()):\n",
    "        offset[symbol] = N\n",
    "        N += row[symbol]\n",
    "    return fm, offset\n",
    "\n",
    "def recoverSuffix(i, BWT, FMIndex, Offset):\n",
    "    suffix = ''\n",
    "    c = BWT[i]\n",
    "    predec = Offset[c] + FMIndex[i][c]\n",
    "    suffix = c + suffix\n",
    "    while (predec != i):\n",
    "        c = BWT[predec]\n",
    "        predec = Offset[c] + FMIndex[predec][c]\n",
    "        suffix = c + suffix\n",
    "    return suffix\n",
    "\n",
    "def LCP(bwt, fmindex = None, offset = None):\n",
    "    if(fmindex is None):\n",
    "        fmindex, offset = FMIndex(bwt)\n",
    "        m = len(bwt)\n",
    "        lcp = [0 for i in xrange(m)]\n",
    "        prev = recoverSuffix(0, bwt, fmindex, offset)\n",
    "        for i in xrange(1, m):\n",
    "            suffix = recoverSuffix(i, bwt, fmindex, offset)\n",
    "            n = 0\n",
    "            for a, b in zip(prev, suffix):\n",
    "                if(a != b):\n",
    "                    break\n",
    "                n += 1\n",
    "            lcp[i] = n\n",
    "            prev = suffix\n",
    "        return lcp"
   ]
  },
  {
   "cell_type": "markdown",
   "metadata": {
    "number": 5,
    "section": "problem"
   },
   "source": [
    "**Problem #5:** Use the function that you wrote for Problem #4 to find the largest k-mer that appears 240 or more times in the mouse mitochondria."
   ]
  },
  {
   "cell_type": "raw",
   "metadata": {
    "number": 5,
    "section": "answer"
   },
   "source": [
    "AAAA"
   ]
  },
  {
   "cell_type": "code",
   "execution_count": 47,
   "metadata": {},
   "outputs": [
    {
     "name": "stdout",
     "output_type": "stream",
     "text": [
      "TATCCTTATT\n"
     ]
    }
   ],
   "source": [
    "def loadFasta(filename):\n",
    "    \"\"\" Parses a classically formatted and possibly \n",
    "        compressed FASTA file into a list of headers \n",
    "        and fragment sequences for each sequence contained\"\"\"\n",
    "    if (filename.endswith(\".gz\")):\n",
    "        fp = gzip.open(filename, 'rb')\n",
    "    else:\n",
    "        fp = open(filename, 'rb')\n",
    "    # split at headers\n",
    "    data = fp.read().split('>')\n",
    "    fp.close()\n",
    "    # ignore whatever appears before the 1st header\n",
    "    data.pop(0)     \n",
    "    headers = []\n",
    "    sequences = []\n",
    "    for sequence in data:\n",
    "        lines = sequence.split('\\n')\n",
    "        headers.append(lines.pop(0))\n",
    "        # add an extra \"+\" to make string \"1-referenced\"\n",
    "        sequences.append('+' + ''.join(lines))\n",
    "    return (headers, sequences)\n",
    "\n",
    "hdr, seq = loadFasta(\"MusMusculusMT.fa\")\n",
    "genome = seq[0]\n",
    "\n",
    "def suffixArray(text):\n",
    "    return sorted(range(len(text)), cmp=lambda i,j: 1 if text[i:] >= text[j:] else -1)\n",
    "\n",
    "sufArray = suffixArray(genome)\n",
    "\n",
    "def BWTfromSuffixArray(text, suffixarray):\n",
    "    return ''.join(text[i-1] for i in suffixarray)\n",
    "\n",
    "bwt = BWTfromSuffixArray(genome, sufArray)\n",
    "\n",
    "def FMIndex(bwt):\n",
    "    fm = [{c: 0 for c in bwt}]\n",
    "    for c in bwt:\n",
    "        row = {symbol: count + 1 if (symbol == c) else count for symbol, count in fm[-1].iteritems()}\n",
    "        fm.append(row)\n",
    "    offset = {}\n",
    "    N = 0\n",
    "    for symbol in sorted(row.keys()):\n",
    "        offset[symbol] = N\n",
    "        N += row[symbol]\n",
    "    return fm, offset\n",
    "\n",
    "def recoverSuffix(i, BWT, FMIndex, Offset):\n",
    "    suffix = ''\n",
    "    c = BWT[i]\n",
    "    predec = Offset[c] + FMIndex[i][c]\n",
    "    suffix = c + suffix\n",
    "    while (predec != i):\n",
    "        c = BWT[predec]\n",
    "        predec = Offset[c] + FMIndex[predec][c]\n",
    "        suffix = c + suffix\n",
    "    return suffix\n",
    "\n",
    "def LCP(bwt, fmindex = None, offset = None):\n",
    "    if(fmindex is None):\n",
    "        fmindex, offset = FMIndex(bwt)\n",
    "        m = len(bwt)\n",
    "        lcp = [0 for i in xrange(m)]\n",
    "        prev = recoverSuffix(0, bwt, fmindex, offset)\n",
    "        for i in xrange(1, m):\n",
    "            suffix = recoverSuffix(i, bwt, fmindex, offset)\n",
    "            n = 0\n",
    "            for a, b in zip(prev, suffix):\n",
    "                if(a != b):\n",
    "                    break\n",
    "                n += 1\n",
    "            lcp[i] = n\n",
    "            prev = suffix\n",
    "        return lcp\n",
    "\n",
    "lcp = LCP(bwt)\n",
    "\n",
    "print genome[sufArray[lcp.index(16)]:sufArray[lcp.index(16)]+10]\n",
    "\n"
   ]
  },
  {
   "cell_type": "markdown",
   "metadata": {
    "section": "submit"
   },
   "source": [
    "Click [here to submit](http://csbio.unc.edu/mcmillan/index.py?run=PS.upload) your completed problem set"
   ]
  }
 ],
 "metadata": {
  "anaconda-cloud": {},
  "kernelspec": {
   "display_name": "Python 2",
   "language": "python",
   "name": "python2"
  },
  "language_info": {
   "codemirror_mode": {
    "name": "ipython",
    "version": 2
   },
   "file_extension": ".py",
   "mimetype": "text/x-python",
   "name": "python",
   "nbconvert_exporter": "python",
   "pygments_lexer": "ipython2",
   "version": "2.7.14"
  }
 },
 "nbformat": 4,
 "nbformat_minor": 1
}
